{
 "cells": [
  {
   "cell_type": "code",
   "execution_count": null,
   "id": "76d5af63",
   "metadata": {},
   "outputs": [],
   "source": [
    "import os\n",
    "from tqdm.notebook import tqdm\n",
    "\n",
    "import matplotlib.pyplot as plt\n",
    "\n",
    "import numpy as np\n",
    "\n",
    "from amygdala_spiking.data import load_bids_group, epoch_sig\n",
    "from amygdala_spiking.preproc import preprocess, preprocess_group\n",
    "\n",
    "from neurodsp.spectral import compute_spectrum\n",
    "from neurodsp.utils.norm import normalize_variance\n",
    "from neurodsp.plts import plot_time_series, plot_power_spectra\n",
    "\n",
    "from fooof import FOOOFGroup\n",
    "from fooof.objs.utils import combine_fooofs\n",
    "\n",
    "from ndspflow.motif import MotifGroup\n",
    "from ndspflow.optimize import refit, refit_group"
   ]
  },
  {
   "cell_type": "markdown",
   "id": "reserved-belle",
   "metadata": {},
   "source": [
    "## Motifs + EMD + Decoding\n",
    "This notebook computes EMD assisted motifs from amydala recordings (i.e. (n_participants, n_epochs, n_timepoints)), and uses the motif waveforms to decode trial type, either neutral or "
   ]
  },
  {
   "cell_type": "code",
   "execution_count": null,
   "id": "checked-novelty",
   "metadata": {},
   "outputs": [],
   "source": [
    "# Load bids data\n",
    "bids_dir = os.path.join(os.getcwd(), 'data_bids')\n",
    "\n",
    "raw = load_bids_group(bids_dir)"
   ]
  },
  {
   "cell_type": "code",
   "execution_count": null,
   "id": "german-dimension",
   "metadata": {},
   "outputs": [],
   "source": [
    "preproc_data = preprocess_group(raw, 'lowpass', f_range=500)"
   ]
  },
  {
   "cell_type": "code",
   "execution_count": null,
   "id": "communist-seating",
   "metadata": {},
   "outputs": [],
   "source": [
    "fs = preproc_data['01']['fs']\n",
    "epoch_types = preproc_data['01']['epoch_types']"
   ]
  },
  {
   "cell_type": "code",
   "execution_count": null,
   "id": "illegal-frank",
   "metadata": {},
   "outputs": [],
   "source": [
    "sigs = []\n",
    "for subj_key in preproc_data:\n",
    "    \n",
    "    _sigs = preproc_data[subj_key]['sigs']\n",
    "    \n",
    "    if 'mmAL1' in _sigs.keys():\n",
    "        sig_key = 'mmAL1'\n",
    "    elif 'mAL1' in _sigs.keys():\n",
    "        sig_key = 'mAL1'\n",
    "    else:\n",
    "        continue\n",
    "        \n",
    "    sigs.append(_sigs[sig_key])\n",
    "    \n",
    "sigs = np.array(sigs)"
   ]
  },
  {
   "cell_type": "code",
   "execution_count": null,
   "id": "demographic-renewal",
   "metadata": {},
   "outputs": [],
   "source": [
    "fgs = []\n",
    "fgs_refit = []\n",
    "imfs = []\n",
    "pe_masks = []\n",
    "\n",
    "drop_idxs = []\n",
    "motif_group = []\n",
    "\n",
    "for ind, sigs_subj in enumerate(sigs):\n",
    "    \n",
    "    sigs_subj = normalize_variance(sigs_subj, variance=1)\n",
    "    \n",
    "    # Specparam\n",
    "    f_range = (1, 100)\n",
    "\n",
    "    freqs, powers = compute_spectrum(sigs_subj, fs, f_range=f_range)\n",
    "\n",
    "    fg = FOOOFGroup(verbose=False)\n",
    "\n",
    "    fg.fit(freqs, powers, freq_range=f_range, n_jobs=-1)\n",
    "\n",
    "    fgs.append(fg)\n",
    "    \n",
    "    # Refit\n",
    "    fg_refit, imfs, pe_mask = refit_group(fg, sigs_subj, fs, f_range, power_thresh=0.1)\n",
    "\n",
    "    # Remove imfs that aren't above 1/f\n",
    "    imfs_filt = [imf[idx] for imf, idx in zip(imfs, pe_mask)]\n",
    "\n",
    "    # Drop specparam models and imfs that don't have motifs\n",
    "    fg_refit_filt = fg_refit.copy()\n",
    "\n",
    "    drop_idx = [idx for idx, mask in enumerate(pe_mask) if not mask.any()]\n",
    "    imfs_filt = [imf for imf, mask in zip(imfs_filt, pe_mask) if mask.any()]\n",
    "    \n",
    "    drop_idxs.append(drop_idx)\n",
    "    pe_mask.append(pe_mask)\n",
    "    \n",
    "    fms = []\n",
    "    for ind in range(len(fg_refit)):\n",
    "        if ind not in drop_idx:\n",
    "            fms.append(fg_refit.get_fooof(ind))\n",
    "\n",
    "    fg_refit_filt = combine_fooofs(fms)\n",
    "\n",
    "    # Compute motifs\n",
    "    motif_epoch = MotifGroup(var_thresh=.01, max_clusters=4, random_state=0)        \n",
    "    motif_epoch.fit(fg_refit_filt, imfs_filt, fs, progress='tqdm.notebook')\n",
    "    \n",
    "    motif_group.append(motif_epoch)"
   ]
  },
  {
   "cell_type": "code",
   "execution_count": null,
   "id": "practical-wound",
   "metadata": {},
   "outputs": [],
   "source": [
    "def stack_motifs(motifs, max_len=2000):\n",
    "    \n",
    "    motif_clusts = []\n",
    "    len_motifs = []\n",
    "    maxima = []\n",
    "\n",
    "    # Iterate over group motif object, spectrum by spectrum\n",
    "    for motif_ind in motifs:\n",
    "\n",
    "        # Iterate peak by peak\n",
    "        for motif_peak in motif_ind:\n",
    "\n",
    "            # Skip nans\n",
    "            if not isinstance(motif_peak.motif, list):\n",
    "                continue\n",
    "\n",
    "            for motif_clust in motif_peak.motif:\n",
    "                if np.isnan(motif_clust).all():\n",
    "                    continue\n",
    "                \n",
    "                len_motifs.append(len(motif_clust))\n",
    "                maxima.append(np.argmax(motif_clust))\n",
    "                motif_clusts.append(motif_clust)\n",
    "        \n",
    "    # 2d motif array, centered at peaks, padded with nans\n",
    "    motif_array = np.zeros((len(len_motifs), max_len))\n",
    "    motif_array[:, :] = np.nan\n",
    "\n",
    "    midpoint = int(max_len/2)\n",
    "\n",
    "    for idx, peak in enumerate(maxima):\n",
    "        start_idx = midpoint - peak\n",
    "        motif_array[idx][start_idx:start_idx + len(motif_clusts[idx])] = motif_clusts[idx]\n",
    "\n",
    "    \n",
    "    #drop_idxs = np.zeros(len(motif_array[0]), dtype=bool)\n",
    "    #for idx in range(len(drop_idxs)):\n",
    "    #    drop_idxs[idx] = np.isnan(motif_array[:, idx]).all()\n",
    "        \n",
    "    #motif_array = motif_array[:, ~drop_idxs]\n",
    "    \n",
    "    return motif_array"
   ]
  },
  {
   "cell_type": "code",
   "execution_count": null,
   "id": "based-madonna",
   "metadata": {},
   "outputs": [],
   "source": [
    "neutral_idxs = np.where(epoch_types == 'Neutral')[0].astype(int)\n",
    "aversive_idxs = np.where(epoch_types == 'Aversive')[0].astype(int)\n",
    "\n",
    "motifs_neutral = []\n",
    "motifs_aversive = []\n",
    "\n",
    "for motif_epoch, drop_idx in zip(deepcopy(motif_group), drop_idxs):\n",
    "    \n",
    "    labels = np.array([l for idx, l in enumerate(epoch_types) if idx not in drop_idx])\n",
    "    \n",
    "    neutral_idxs = np.where(labels == 'Neutral')[0].astype(int)\n",
    "    aversive_idxs = np.where(labels == 'Aversive')[0].astype(int)\n",
    "    \n",
    "    _motifs_neutral = []\n",
    "    _motifs_aversive = []\n",
    "    \n",
    "    for idx, motif_trial in enumerate(motif_epoch):\n",
    "        \n",
    "        if idx in neutral_idxs:\n",
    "            _motifs_neutral.append(motif_trial)\n",
    "        else:\n",
    "            _motifs_aversive.append(motif_trial)\n",
    "        \n",
    "\n",
    "    motifs_neutral.append(stack_motifs(_motifs_neutral))\n",
    "    motifs_aversive.append(stack_motifs(_motifs_aversive))"
   ]
  },
  {
   "cell_type": "code",
   "execution_count": null,
   "id": "looking-studio",
   "metadata": {},
   "outputs": [],
   "source": [
    "for _motif_group in motifs_neutral:\n",
    "    for motif in _motif_group:\n",
    "        plt.plot(motif)\n",
    "plt.xlim(600, 1400)\n",
    "plt.ylim(-2, 2)"
   ]
  },
  {
   "cell_type": "code",
   "execution_count": null,
   "id": "ongoing-scout",
   "metadata": {},
   "outputs": [],
   "source": [
    "for _motif_group in motifs_aversive:\n",
    "    for motif in _motif_group:\n",
    "        plt.plot(motif)\n",
    "        \n",
    "plt.xlim(600, 1400)\n",
    "plt.ylim(-2, 2)"
   ]
  },
  {
   "cell_type": "code",
   "execution_count": null,
   "id": "rocky-diploma",
   "metadata": {},
   "outputs": [],
   "source": [
    "for _motif_group in motifs_neutral:\n",
    "    for motif in _motif_group:\n",
    "        plt.plot(motif, color='k', alpha=.1)\n",
    "        \n",
    "        \n",
    "for _motif_group in motifs_aversive:\n",
    "    for motif in _motif_group:\n",
    "        plt.plot(motif, color='r', alpha=.1)"
   ]
  },
  {
   "cell_type": "markdown",
   "id": "meaning-thailand",
   "metadata": {},
   "source": [
    "### SVM"
   ]
  },
  {
   "cell_type": "code",
   "execution_count": null,
   "id": "superb-poultry",
   "metadata": {},
   "outputs": [],
   "source": [
    "from tslearn.svm import TimeSeriesSVC"
   ]
  },
  {
   "cell_type": "code",
   "execution_count": null,
   "id": "graduate-delicious",
   "metadata": {},
   "outputs": [],
   "source": [
    "def reshape_arr(motifs):\n",
    "    \n",
    "    motifs_reshape = motifs.copy()\n",
    "\n",
    "    for idx, _motif in enumerate(motifs_reshape):\n",
    "\n",
    "        start = np.where(~np.isnan(_motif))[0]\n",
    "\n",
    "        _motif = np.roll(_motif, -start[0], axis=0)\n",
    "\n",
    "        motifs_reshape[idx, :len(_motif)] = _motif\n",
    "        \n",
    "    return motifs_reshape"
   ]
  },
  {
   "cell_type": "code",
   "execution_count": null,
   "id": "visible-ordering",
   "metadata": {},
   "outputs": [],
   "source": [
    "_motifs_neutral = np.vstack(motifs_neutral)\n",
    "_motifs_aversive = np.vstack(motifs_aversive)\n",
    "\n",
    "_motifs_neutral = reshape_arr(_motifs_neutral)\n",
    "_motifs_aversive = reshape_arr(_motifs_aversive)"
   ]
  },
  {
   "cell_type": "code",
   "execution_count": null,
   "id": "equipped-stamp",
   "metadata": {},
   "outputs": [],
   "source": [
    "# Stack neutral and aversive motifs\n",
    "_motifs = np.vstack((_motifs_neutral, _motifs_aversive))"
   ]
  },
  {
   "cell_type": "code",
   "execution_count": null,
   "id": "atlantic-ticket",
   "metadata": {},
   "outputs": [],
   "source": [
    "# Trim excess nans\n",
    "idxs = np.where(np.isnan(_motifs).sum(axis=0) == len(_motifs))[0]\n",
    "\n",
    "_motifs = _motifs[:, :idxs[0]]\n",
    "\n",
    "_motifs = np.reshape(_motifs, (len(_motifs), len(_motifs[0]), 1))"
   ]
  },
  {
   "cell_type": "code",
   "execution_count": null,
   "id": "liked-illinois",
   "metadata": {},
   "outputs": [],
   "source": [
    "labels = np.ones(len(_motifs))\n",
    "labels[:len(_motifs_neutral)] = 0\n",
    "labels"
   ]
  },
  {
   "cell_type": "code",
   "execution_count": null,
   "id": "imperial-asthma",
   "metadata": {},
   "outputs": [],
   "source": [
    "clf = TimeSeriesSVC(kernel=\"gak\", gamma=.1)\n",
    "clf.fit(_motifs, labels)"
   ]
  }
 ],
 "metadata": {
  "kernelspec": {
   "display_name": "Python 3",
   "language": "python",
   "name": "python3"
  },
  "language_info": {
   "codemirror_mode": {
    "name": "ipython",
    "version": 3
   },
   "file_extension": ".py",
   "mimetype": "text/x-python",
   "name": "python",
   "nbconvert_exporter": "python",
   "pygments_lexer": "ipython3",
   "version": "3.8.10"
  }
 },
 "nbformat": 4,
 "nbformat_minor": 5
}
